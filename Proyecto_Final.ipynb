{
 "cells": [
  {
   "cell_type": "markdown",
   "id": "ca63ea26",
   "metadata": {},
   "source": [
    "### \"Análisis Exploratorio del Panorama Energético: Consumo, Transición Renovable y Eficiencia\""
   ]
  },
  {
   "cell_type": "markdown",
   "id": "a7bad8d9",
   "metadata": {},
   "source": [
    "### Problema\n",
    "\"Evaluar interrelaciones entre desigualdad en consumo eléctrico, avance de energías renovables y eficiencia energética para identificar oportunidades de transición justa\""
   ]
  },
  {
   "cell_type": "markdown",
   "id": "6ea2370b",
   "metadata": {},
   "source": [
    "### Datos a Usar\n",
    "- Dataset 1: Consumo eléctrico residencial por región/nivel socioeconómico\n",
    "- Dataset 2: Producción energética por fuente (renovable vs fósil)\n",
    "- Dataset 3: Indicadores de eficiencia energética en edificios/industria"
   ]
  }
 ],
 "metadata": {
  "language_info": {
   "name": "python"
  }
 },
 "nbformat": 4,
 "nbformat_minor": 5
}
