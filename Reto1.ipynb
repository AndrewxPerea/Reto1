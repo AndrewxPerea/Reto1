{
 "cells": [
  {
   "cell_type": "markdown",
   "id": "7e4bcc21",
   "metadata": {},
   "source": [
    "## COMPOSICIÓN DEL PROYECTO DE VIDEO\n",
    "Predicción de Consumo Energético Residencial para Optimización de Tarifas y Promoción del Ahorro en Comunidades Locales.\n",
    "### Reto Mision 1\n",
    "Desarrollo del Reto Mission 1 donde se aplicara el siguiente analisis según las \n",
    "fases sugeridas de historia de vida de un proyecto.\n",
    "mostrarán cómo realizar un análisis de datos, incluyendo la carga y exploración\n",
    "del conjunto de datos, identificación de tipos de datos, manejo de datos faltantes, y\n",
    "normalización. Finalmente, deben reflexionar sobre el proceso seguido, los desafíos\n",
    "encontrados y las lecciones aprendidas\n"
   ]
  },
  {
   "cell_type": "markdown",
   "id": "fd7f08e0",
   "metadata": {},
   "source": [
    "### Fase 1: Identificacion del problema.\n",
    "Este tema utiliza machine learning para analizar y predecir el consumo eléctrico futuro en diferentes hogares de una región, permitiendo recomendar incentivos para el ahorro, mejorar la gestión de la demanda y promover energía limpia mediante tarifas dinámicas y estrategias personalizadas. Aborda directamente los retos de democratización del consumo energético y transición hacia fuentes más sostenibles, siendo relevante para autoridades energéticas, empresas distribuidoras y consumidores\n",
    "1. Definición del Problema y Objetivos\n",
    "- Objetivo principal: Predecir la producción energética mensual en Colombia para apoyar decisiones en energías renovables.\n",
    "- Tipo de problema: Regresión multivariada.\n",
    "- Resultado esperado: Modelo que anticipe la producción futura basada en variables históricas y ambientales.\n",
    "2. Identificación de Stakeholders\n",
    "- Autoridades y reguladores energéticos.\n",
    "- Empresas productoras y distribuidoras de energía.\n",
    "- Comunidades locales y usuarios finales.\n",
    "- Equipo de desarrollo (analistas y científicos de datos)."
   ]
  },
  {
   "cell_type": "markdown",
   "id": "bbbb97bb",
   "metadata": {},
   "source": [
    "### Fase 2: Recoleccion de datos \n",
    "Se tomara dos dataset de la pagina Kaggle \n",
    "- Producción energética mensual en Colombia (con datos de generación mensual).\n",
    "- Colecciones amplias de energías renovables (solar, eólica, demanda horaria, microgrid, etc.).\n",
    "\n"
   ]
  }
 ],
 "metadata": {
  "language_info": {
   "name": "python"
  }
 },
 "nbformat": 4,
 "nbformat_minor": 5
}
