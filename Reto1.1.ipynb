{
 "cells": [
  {
   "cell_type": "markdown",
   "id": "268fd472",
   "metadata": {},
   "source": [
    "## COMPOSICIÓN DEL PROYECTO DE VIDEO\n",
    "Detección automática de fraudes y abusos en el uso de servicios de internet en telecomunicaciones mediante machine learning.\n",
    "\n",
    "\n"
   ]
  },
  {
   "cell_type": "markdown",
   "id": "4110b92b",
   "metadata": {},
   "source": [
    "### Reto Mision 1\n",
    "Desarrollo del Reto Mission 1 donde se va a desarrollar un modelo de clasificación para identificar patrones anómalos o sospechosos en el uso de servicios telefónicos o de datos (llamadas falsas, clonación de líneas, uso indebido de minutos, etc.). El sistema puede ayudar a prevenir pérdidas financieras y mejorar la experiencia del cliente al detectar fraudes temprano."
   ]
  },
  {
   "cell_type": "markdown",
   "id": "a0f78de8",
   "metadata": {},
   "source": [
    "###  Cargar el Dataset\n",
    "- Utilizar pandas para cargar el archivo CSV o formato disponible."
   ]
  },
  {
   "cell_type": "code",
   "execution_count": null,
   "id": "409a7b2a",
   "metadata": {},
   "outputs": [],
   "source": [
    "import pandas as pd\n",
    "\n",
    "df = pd.read_csv('teldata.csv')"
   ]
  },
  {
   "cell_type": "markdown",
   "id": "0cc2c378",
   "metadata": {},
   "source": [
    "### Exploración Inicial\n",
    "- Obtener información básica sobre el conjunto de datos:"
   ]
  },
  {
   "cell_type": "code",
   "execution_count": null,
   "id": "3fc8c9ff",
   "metadata": {},
   "outputs": [],
   "source": [
    "# Dimensiones (filas, columnas)\n",
    "print(df.shape)\n",
    "\n",
    "# Primeras filas para visualizar datos\n",
    "print(df.head())\n",
    "\n",
    "# Tipos de datos de cada columna\n",
    "print(df.dtypes)\n"
   ]
  },
  {
   "cell_type": "markdown",
   "id": "f1b197ab",
   "metadata": {},
   "source": [
    "### Revisar Datos Faltantes\n",
    "- Identificar columnas con valores ausentes:"
   ]
  },
  {
   "cell_type": "code",
   "execution_count": 4,
   "id": "029b3f8c",
   "metadata": {},
   "outputs": [
    {
     "name": "stdout",
     "output_type": "stream",
     "text": [
      "packet_size              0\n",
      "inter_arrival_time       0\n",
      "src_port                 0\n",
      "dst_port                 0\n",
      "packet_count_5s          0\n",
      "mean_packet_size         0\n",
      "spectral_entropy         0\n",
      "frequency_band_energy    0\n",
      "label                    0\n",
      "protocol_type_TCP        0\n",
      "protocol_type_UDP        0\n",
      "src_ip_192.168.1.2       0\n",
      "src_ip_192.168.1.3       0\n",
      "dst_ip_192.168.1.5       0\n",
      "dst_ip_192.168.1.6       0\n",
      "tcp_flags_FIN            0\n",
      "tcp_flags_SYN            0\n",
      "tcp_flags_SYN-ACK        0\n",
      "dtype: int64\n"
     ]
    }
   ],
   "source": [
    "print(df.isna().sum())"
   ]
  },
  {
   "cell_type": "markdown",
   "id": "54603dc1",
   "metadata": {},
   "source": [
    "### Estadísticas Descriptivas\n",
    "- Obtener un resumen estadístico para columnas numéricas:"
   ]
  },
  {
   "cell_type": "code",
   "execution_count": 5,
   "id": "8710546d",
   "metadata": {},
   "outputs": [
    {
     "name": "stdout",
     "output_type": "stream",
     "text": [
      "       packet_size  inter_arrival_time      src_port     dst_port  \\\n",
      "count  1000.000000         1000.000000   1000.000000  1000.000000   \n",
      "mean      0.502446            0.512259  32024.617000   199.769000   \n",
      "std       0.289606            0.281130  18520.890349   180.078488   \n",
      "min       0.000000            0.000000   1038.000000    53.000000   \n",
      "25%       0.256263            0.275909  16245.250000    53.000000   \n",
      "50%       0.499642            0.515971  31883.000000    80.000000   \n",
      "75%       0.741410            0.746523  47746.250000   443.000000   \n",
      "max       1.000000            1.000000  65484.000000   443.000000   \n",
      "\n",
      "       packet_count_5s  mean_packet_size  spectral_entropy  \\\n",
      "count      1000.000000            1000.0       1000.000000   \n",
      "mean          0.506857               0.0          0.495222   \n",
      "std           0.303271               0.0          0.292927   \n",
      "min           0.000000               0.0          0.000000   \n",
      "25%           0.267857               0.0          0.236912   \n",
      "50%           0.500000               0.0          0.504290   \n",
      "75%           0.785714               0.0          0.761556   \n",
      "max           1.000000               0.0          1.000000   \n",
      "\n",
      "       frequency_band_energy       label  \n",
      "count            1000.000000  1000.00000  \n",
      "mean                0.485651     0.10000  \n",
      "std                 0.295953     0.30015  \n",
      "min                 0.000000     0.00000  \n",
      "25%                 0.228039     0.00000  \n",
      "50%                 0.467905     0.00000  \n",
      "75%                 0.750876     0.00000  \n",
      "max                 1.000000     1.00000  \n"
     ]
    }
   ],
   "source": [
    "print(df.describe())"
   ]
  }
 ],
 "metadata": {
  "kernelspec": {
   "display_name": "Python 3",
   "language": "python",
   "name": "python3"
  },
  "language_info": {
   "codemirror_mode": {
    "name": "ipython",
    "version": 3
   },
   "file_extension": ".py",
   "mimetype": "text/x-python",
   "name": "python",
   "nbconvert_exporter": "python",
   "pygments_lexer": "ipython3",
   "version": "3.12.1"
  }
 },
 "nbformat": 4,
 "nbformat_minor": 5
}
